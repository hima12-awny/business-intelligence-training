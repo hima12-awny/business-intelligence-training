{
 "cells": [
  {
   "cell_type": "code",
   "execution_count": 1,
   "metadata": {},
   "outputs": [],
   "source": [
    "# import all libs for web scraping\n",
    "from bs4 import BeautifulSoup\n",
    "import requests\n",
    "import pandas as pd"
   ]
  },
  {
   "cell_type": "code",
   "execution_count": 2,
   "metadata": {},
   "outputs": [],
   "source": [
    "# get page html content\n",
    "URL = \"https://www.bayt.com/en/egypt/jobs/sales-jobs/\"\n",
    "\n",
    "# Send a GET request to the URL\n",
    "page = requests.get(URL, headers={'User-Agent': 'Mozilla/5.0'})"
   ]
  },
  {
   "cell_type": "code",
   "execution_count": 3,
   "metadata": {},
   "outputs": [],
   "source": [
    "# parser page content \n",
    "soup = BeautifulSoup(page.content, 'html.parser')"
   ]
  },
  {
   "cell_type": "code",
   "execution_count": 4,
   "metadata": {},
   "outputs": [],
   "source": [
    "# funtion to get data of spacific tag in html page. \n",
    "def getData(name):\n",
    "\n",
    "    data =  soup.find_all(name[0], class_=name[1])\n",
    "    data_list =[item.text.strip() for item in data]\n",
    "    \n",
    "    return data_list"
   ]
  },
  {
   "cell_type": "code",
   "execution_count": 5,
   "metadata": {},
   "outputs": [],
   "source": [
    "# define all tags based on its html page.\n",
    "name_data = {'Jop Titles':      ['h2','jb-title' ],\n",
    "             'Jop Locations':   ['span','jb-loc'],\n",
    "             'Company Name':    ['b', 'jb-company'],\n",
    "             'Date':            ['div','jb-date']\n",
    "             }"
   ]
  },
  {
   "cell_type": "code",
   "execution_count": 6,
   "metadata": {},
   "outputs": [],
   "source": [
    "# get all tags's data in one step in python dict.\n",
    "data = {name:getData(name_data[name]) for name in name_data} "
   ]
  },
  {
   "cell_type": "code",
   "execution_count": 7,
   "metadata": {},
   "outputs": [
    {
     "data": {
      "text/html": [
       "<div>\n",
       "<style scoped>\n",
       "    .dataframe tbody tr th:only-of-type {\n",
       "        vertical-align: middle;\n",
       "    }\n",
       "\n",
       "    .dataframe tbody tr th {\n",
       "        vertical-align: top;\n",
       "    }\n",
       "\n",
       "    .dataframe thead th {\n",
       "        text-align: right;\n",
       "    }\n",
       "</style>\n",
       "<table border=\"1\" class=\"dataframe\">\n",
       "  <thead>\n",
       "    <tr style=\"text-align: right;\">\n",
       "      <th></th>\n",
       "      <th>Jop Titles</th>\n",
       "      <th>Jop Locations</th>\n",
       "      <th>Company Name</th>\n",
       "      <th>Date</th>\n",
       "    </tr>\n",
       "  </thead>\n",
       "  <tbody>\n",
       "    <tr>\n",
       "      <th>0</th>\n",
       "      <td>Business Development Sales</td>\n",
       "      <td>Cairo, Egypt</td>\n",
       "      <td>MobiWeb</td>\n",
       "      <td>30+ days ago</td>\n",
       "    </tr>\n",
       "    <tr>\n",
       "      <th>1</th>\n",
       "      <td>Sales Executive</td>\n",
       "      <td>Al Hadabah al Wusta, Cairo</td>\n",
       "      <td>bis real estate</td>\n",
       "      <td>2 days ago</td>\n",
       "    </tr>\n",
       "    <tr>\n",
       "      <th>2</th>\n",
       "      <td>HORECA &amp; Catering Sales Executive (Cairo - Alex)</td>\n",
       "      <td>Cairo, Egypt</td>\n",
       "      <td>Metro Markets for Trading &amp; Distribution</td>\n",
       "      <td>11 hours ago</td>\n",
       "    </tr>\n",
       "    <tr>\n",
       "      <th>3</th>\n",
       "      <td>Sales Executive</td>\n",
       "      <td>Abbassia, Cairo</td>\n",
       "      <td>Teeba Saleh</td>\n",
       "      <td>7 days ago</td>\n",
       "    </tr>\n",
       "    <tr>\n",
       "      <th>4</th>\n",
       "      <td>Sales Representative Outdoor</td>\n",
       "      <td>Cairo, Egypt</td>\n",
       "      <td>Innovation Stratiges</td>\n",
       "      <td>7 days ago</td>\n",
       "    </tr>\n",
       "  </tbody>\n",
       "</table>\n",
       "</div>"
      ],
      "text/plain": [
       "                                         Jop Titles  \\\n",
       "0                        Business Development Sales   \n",
       "1                                   Sales Executive   \n",
       "2  HORECA & Catering Sales Executive (Cairo - Alex)   \n",
       "3                                   Sales Executive   \n",
       "4                      Sales Representative Outdoor   \n",
       "\n",
       "                Jop Locations                              Company Name  \\\n",
       "0                Cairo, Egypt                                   MobiWeb   \n",
       "1  Al Hadabah al Wusta, Cairo                           bis real estate   \n",
       "2                Cairo, Egypt  Metro Markets for Trading & Distribution   \n",
       "3             Abbassia, Cairo                               Teeba Saleh   \n",
       "4                Cairo, Egypt                      Innovation Stratiges   \n",
       "\n",
       "           Date  \n",
       "0  30+ days ago  \n",
       "1    2 days ago  \n",
       "2  11 hours ago  \n",
       "3    7 days ago  \n",
       "4    7 days ago  "
      ]
     },
     "execution_count": 7,
     "metadata": {},
     "output_type": "execute_result"
    }
   ],
   "source": [
    "# convert dict into dataframe to save it in CSV file.\n",
    "df = pd.DataFrame(data)\n",
    "df.head()"
   ]
  },
  {
   "cell_type": "code",
   "execution_count": 8,
   "metadata": {},
   "outputs": [],
   "source": [
    "df.to_csv('reults.csv')"
   ]
  }
 ],
 "metadata": {
  "kernelspec": {
   "display_name": "Python 3",
   "language": "python",
   "name": "python3"
  },
  "language_info": {
   "codemirror_mode": {
    "name": "ipython",
    "version": 3
   },
   "file_extension": ".py",
   "mimetype": "text/x-python",
   "name": "python",
   "nbconvert_exporter": "python",
   "pygments_lexer": "ipython3",
   "version": "3.11.0"
  },
  "orig_nbformat": 4,
  "vscode": {
   "interpreter": {
    "hash": "a8e05ae47b86e45e8e6812ebbb4c5de3c589a02c7df1f44726b5523da33445db"
   }
  }
 },
 "nbformat": 4,
 "nbformat_minor": 2
}
